{
 "cells": [
  {
   "cell_type": "markdown",
   "metadata": {},
   "source": [
    "Note: Running python 3.9.0 but i don't think it matters\n",
    "\n",
    "Notebook to test and develop methods for simulating a season using sleeper projections."
   ]
  },
  {
   "cell_type": "markdown",
   "metadata": {},
   "source": [
    "Step 1: project 1 player"
   ]
  },
  {
   "cell_type": "code",
   "execution_count": 2,
   "metadata": {},
   "outputs": [],
   "source": [
    "import numpy as np"
   ]
  },
  {
   "cell_type": "code",
   "execution_count": 3,
   "metadata": {},
   "outputs": [],
   "source": [
    "# initial test data\n",
    "\n",
    "player_projection = 15 # simulates sleeper projection for a random player\n",
    "variance_percentage = 0.3 # note: do research on what to make this"
   ]
  },
  {
   "cell_type": "code",
   "execution_count": 4,
   "metadata": {},
   "outputs": [],
   "source": [
    "# normal distribution\n",
    "def normal_distribution_prediction(player_proj):\n",
    "    std_dev = player_projection * variance_percentage\n",
    "    return np.random.normal(player_proj, std_dev)"
   ]
  },
  {
   "cell_type": "code",
   "execution_count": 5,
   "metadata": {},
   "outputs": [],
   "source": [
    "# log normal distribution\n",
    "def log_normal_distribution_prediction(player_proj):\n",
    "    mean = np.log(player_proj)\n",
    "    return np.random.lognormal(mean, variance_percentage)"
   ]
  },
  {
   "cell_type": "code",
   "execution_count": 16,
   "metadata": {},
   "outputs": [
    {
     "name": "stdout",
     "output_type": "stream",
     "text": [
      "results: [20.02951903 14.02819272 15.24512023 15.95276668 14.09729251 18.06228277\n",
      " 17.24830822 19.17267475 16.21905879 22.15171654 10.34285292  8.48042238\n",
      "  9.52087785 15.03177984 25.06461434 15.35480345 16.23099418  9.94124147\n",
      " 14.7840662  13.37057214]\n",
      "Mean: 15.516457850835257\n",
      "Max: 25.064614344982488\n",
      "Min: 8.480422376050644\n"
     ]
    }
   ],
   "source": [
    "# testing normal dist\n",
    "results = np.array([])\n",
    "for i in range(0, 20):\n",
    "    prediction = normal_distribution_prediction(player_projection)\n",
    "    results = np.append(results, prediction)\n",
    "\n",
    "print(\"results: \" + str(results))\n",
    "print(\"Mean: \" + str(np.mean(results)))\n",
    "print(\"Max: \" + str(np.max(results)))\n",
    "print(\"Min: \" + str(np.min(results)))"
   ]
  },
  {
   "cell_type": "code",
   "execution_count": 22,
   "metadata": {},
   "outputs": [
    {
     "name": "stdout",
     "output_type": "stream",
     "text": [
      "results: [16.15176913 19.07573282 17.35933769 11.02311636 23.2228197  12.6429266\n",
      " 17.29846371 22.10245028 27.56045195 11.5226021  10.88747867 14.18524007\n",
      " 15.2614478  15.76167811  9.74933112 19.74810751 19.28728324 19.7537897\n",
      " 14.7807873  10.06544089]\n",
      "Mean: 16.372012737752776\n",
      "Max: 27.5604519494547\n",
      "Min: 9.749331116917425\n"
     ]
    }
   ],
   "source": [
    "# test log normal dist\n",
    "results = np.array([])\n",
    "for i in range(0, 20):\n",
    "    prediction = log_normal_distribution_prediction(player_projection)\n",
    "    results = np.append(results, prediction)\n",
    "\n",
    "print(\"results: \" + str(results))\n",
    "print(\"Mean: \" + str(np.mean(results)))\n",
    "print(\"Max: \" + str(np.max(results)))\n",
    "print(\"Min: \" + str(np.min(results)))"
   ]
  },
  {
   "cell_type": "code",
   "execution_count": null,
   "metadata": {},
   "outputs": [],
   "source": [
    "# notes from testing: log-normal dist gives a bigger variance with individual scores, but the mean stays relatively the same\n",
    "# I think this is the best option for us"
   ]
  },
  {
   "cell_type": "code",
   "execution_count": 1,
   "metadata": {},
   "outputs": [],
   "source": []
  },
  {
   "cell_type": "code",
   "execution_count": null,
   "metadata": {},
   "outputs": [],
   "source": []
  },
  {
   "cell_type": "code",
   "execution_count": null,
   "metadata": {},
   "outputs": [],
   "source": []
  },
  {
   "cell_type": "code",
   "execution_count": null,
   "metadata": {},
   "outputs": [],
   "source": []
  }
 ],
 "metadata": {
  "kernelspec": {
   "display_name": "Python 3",
   "language": "python",
   "name": "python3"
  },
  "language_info": {
   "codemirror_mode": {
    "name": "ipython",
    "version": 3
   },
   "file_extension": ".py",
   "mimetype": "text/x-python",
   "name": "python",
   "nbconvert_exporter": "python",
   "pygments_lexer": "ipython3",
   "version": "3.9.0"
  }
 },
 "nbformat": 4,
 "nbformat_minor": 2
}
