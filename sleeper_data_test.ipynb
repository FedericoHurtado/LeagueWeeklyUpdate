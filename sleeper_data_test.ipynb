{
 "cells": [
  {
   "cell_type": "markdown",
   "metadata": {},
   "source": [
    "Test to get player and team data from sleeper"
   ]
  },
  {
   "cell_type": "code",
   "execution_count": 3,
   "metadata": {},
   "outputs": [],
   "source": [
    "from sleeper_wrapper import League"
   ]
  },
  {
   "cell_type": "code",
   "execution_count": 4,
   "metadata": {},
   "outputs": [],
   "source": [
    "# constants for league testing \n",
    "# note using 2023 dynasty league in order to get predictions and real scores\n",
    "league_id = '920412431443132416'"
   ]
  },
  {
   "cell_type": "code",
   "execution_count": 5,
   "metadata": {},
   "outputs": [],
   "source": [
    "# initialize a league \n",
    "league = League(league_id)"
   ]
  },
  {
   "cell_type": "code",
   "execution_count": 6,
   "metadata": {},
   "outputs": [],
   "source": [
    "# make a map from roster_id to user name\n",
    "\n",
    "# map of (user_id: team_name)\n",
    "user_id_to_name = {}\n",
    "\n",
    "users = league.get_users()\n",
    "\n",
    "for user in users:\n",
    "    curr_id = user['user_id']\n",
    "    team_name = user['metadata']['team_name']\n",
    "    user_id_to_name[curr_id] = team_name\n",
    "\n",
    "\n",
    "# relate the roster_id to team details\n",
    "roster_id_to_details = {}\n",
    "\n",
    "rosters = league.get_rosters()\n",
    "for roster in rosters:\n",
    "    roster_id = roster['roster_id']\n",
    "    user_id = roster['owner_id']\n",
    "    team_name = user_id_to_name.get(user_id, \"Unknown Team\")\n",
    "    roster_id_to_details[roster_id] = (user_id, team_name)\n",
    "\n",
    "    "
   ]
  },
  {
   "cell_type": "code",
   "execution_count": 7,
   "metadata": {},
   "outputs": [],
   "source": [
    "week = 1\n",
    "matchups = league.get_matchups(1)"
   ]
  },
  {
   "cell_type": "code",
   "execution_count": 8,
   "metadata": {},
   "outputs": [],
   "source": [
    "# Step 4: Create a list of matchups for the week\n",
    "weekly_matchups = {}\n",
    "\n",
    "for match in matchups:\n",
    "    matchup_id = match['matchup_id']\n",
    "    roster_id = match['roster_id']\n",
    "    if matchup_id not in weekly_matchups:\n",
    "        weekly_matchups[matchup_id] = []\n",
    "    weekly_matchups[matchup_id].append(roster_id)"
   ]
  },
  {
   "cell_type": "code",
   "execution_count": 9,
   "metadata": {},
   "outputs": [
    {
     "name": "stdout",
     "output_type": "stream",
     "text": [
      "Matchup 4:\n",
      "  Team 1: Goon squad (User ID: 703029617853825024, Roster ID: 1)\n",
      "  Team 2: The mysterious yellow rat (User ID: 740308422393778176, Roster ID: 5)\n",
      "\n",
      "Matchup 3:\n",
      "  Team 1: The 4 amigos + the bums  (User ID: 694013002269134848, Roster ID: 2)\n",
      "  Team 2: Team Friendship (User ID: 704809042626809856, Roster ID: 7)\n",
      "\n",
      "Matchup 5:\n",
      "  Team 1: Loco Gangsters (User ID: 662798027446095872, Roster ID: 3)\n",
      "  Team 2: Guangdong tigers (User ID: 705142131156656128, Roster ID: 9)\n",
      "\n",
      "Matchup 1:\n",
      "  Team 1: Juan Solos (User ID: 704749318178971648, Roster ID: 4)\n",
      "  Team 2: Freakydelphia (User ID: 704801325254262784, Roster ID: 6)\n",
      "\n",
      "Matchup 2:\n",
      "  Team 1: Jin’s little Tots (User ID: 705136986075271168, Roster ID: 8)\n",
      "  Team 2: K2 Black Panther (User ID: 705144672049233920, Roster ID: 10)\n",
      "\n"
     ]
    }
   ],
   "source": [
    "# Step 5: Print the matchups for the week\n",
    "for matchup_id, roster_ids in weekly_matchups.items():\n",
    "    team_one_roster_id = roster_ids[0]\n",
    "    team_two_roster_id = roster_ids[1]\n",
    "    \n",
    "    team_one_details = roster_id_to_details[team_one_roster_id]\n",
    "    team_two_details = roster_id_to_details[team_two_roster_id]\n",
    "    \n",
    "    print(f\"Matchup {matchup_id}:\")\n",
    "    print(f\"  Team 1: {team_one_details[1]} (User ID: {team_one_details[0]}, Roster ID: {team_one_roster_id})\")\n",
    "    print(f\"  Team 2: {team_two_details[1]} (User ID: {team_two_details[0]}, Roster ID: {team_two_roster_id})\")\n",
    "    print()"
   ]
  },
  {
   "cell_type": "code",
   "execution_count": 10,
   "metadata": {},
   "outputs": [],
   "source": [
    "def get_starters(roster_id):\n",
    "    rosters = league.get_rosters()\n",
    "    for roster in rosters:\n",
    "        if roster['roster_id'] == roster_id:\n",
    "            return roster['starters']\n",
    "    "
   ]
  },
  {
   "cell_type": "code",
   "execution_count": 11,
   "metadata": {},
   "outputs": [],
   "source": [
    "import csv\n",
    "\n",
    "# Load player data from CSV into a dictionary\n",
    "player_data_csv = \"sleeper_player_data.csv\"  \n",
    "\n",
    "player_dict = {}\n",
    "with open(player_data_csv, mode='r') as file:\n",
    "    reader = csv.DictReader(file)\n",
    "    for row in reader:\n",
    "        player_id = row[\"player_id\"]\n",
    "        first_name = row[\"first_name\"]\n",
    "        last_name = row[\"last_name\"]\n",
    "        player_dict[player_id] = f\"{first_name} {last_name}\""
   ]
  },
  {
   "cell_type": "code",
   "execution_count": 12,
   "metadata": {},
   "outputs": [
    {
     "name": "stdout",
     "output_type": "stream",
     "text": [
      "Team 1 starters:\n",
      "Jordan Love\n",
      "D'Andre Swift\n",
      "Josh Jacobs\n",
      "Brandon Aiyuk\n",
      "A.J. Brown\n",
      "T.J. Hockenson\n",
      "Tee Higgins\n",
      "Justin Jefferson\n",
      "Team 2 starters:\n",
      "Jalen Hurts\n",
      "Tony Pollard\n",
      "Alvin Kamara\n",
      "Michael Pittman\n",
      "Chris Olave\n",
      "Dallas Goedert\n",
      "James Cook\n",
      "Rashee Rice\n"
     ]
    }
   ],
   "source": [
    "# step 6: for each matchup get starting rosters\n",
    "for match_id in range(1, 6): # make this flexible later\n",
    "    roster_id_one = weekly_matchups[match_id][0]\n",
    "    roster_id_two = weekly_matchups[match_id][1]\n",
    "\n",
    "    roster_one = get_starters(roster_id_one)\n",
    "    roster_two = get_starters(roster_id_two)\n",
    "    print(\"Matchup: \" + str(match_id))\n",
    "    print(\"Team 1 starters:\")\n",
    "    for player_id in roster_one:\n",
    "        player_name = player_dict.get(player_id, \"Unknown Player\")\n",
    "        print(player_name)\n",
    "\n",
    "    print(\"Team 2 starters:\")\n",
    "    for player_id in roster_two:\n",
    "        player_name = player_dict.get(player_id, \"Unknown Player\")\n",
    "        print(player_name)\n",
    "    print(\"-------------------------\")\n",
    "\n",
    "    "
   ]
  },
  {
   "cell_type": "code",
   "execution_count": 13,
   "metadata": {},
   "outputs": [],
   "source": [
    "# step 7: use model to predict score for each player\n"
   ]
  },
  {
   "cell_type": "code",
   "execution_count": 14,
   "metadata": {},
   "outputs": [],
   "source": [
    "# step 8: see who wins\n"
   ]
  },
  {
   "cell_type": "code",
   "execution_count": 15,
   "metadata": {},
   "outputs": [],
   "source": [
    "# step 9: create function\n",
    "# predict_game(week, matchup_id)"
   ]
  },
  {
   "cell_type": "code",
   "execution_count": 16,
   "metadata": {},
   "outputs": [],
   "source": []
  },
  {
   "cell_type": "code",
   "execution_count": 17,
   "metadata": {},
   "outputs": [
    {
     "name": "stdout",
     "output_type": "stream",
     "text": [
      "{'years_exp': 13, 'search_rank': 9999999, 'birth_date': '1986-08-01', 'birth_city': None, 'sport': 'nfl', 'practice_participation': None, 'player_id': '365', 'position': 'WR', 'search_last_name': 'wallace', 'depth_chart_position': None, 'number': 14, 'weight': '200', 'news_updated': 1547411185002, 'swish_id': None, 'oddsjam_id': None, 'birth_state': None, 'rotoworld_id': 5329, 'first_name': 'Mike', 'espn_id': 12601, 'stats_id': 339270, 'last_name': 'Wallace', 'metadata': None, 'pandascore_id': None, 'competitions': [], 'age': 35, 'height': '72', 'gsis_id': '00-0026901', 'yahoo_id': 9348, 'injury_body_part': None, 'injury_start_date': None, 'sportradar_id': 'b37b5be9-4771-4368-988f-fb936f4fc0ad', 'search_full_name': 'mikewallace', 'status': 'Inactive', 'injury_notes': None, 'fantasy_positions': ['WR'], 'injury_status': None, 'full_name': 'Mike Wallace', 'high_school': 'O. Perry Walker (LA)', 'hashtag': '#mikewallace-NFL-FA-14', 'search_first_name': 'mike', 'rotowire_id': 6110, 'college': 'Mississippi', 'active': False, 'birth_country': None, 'opta_id': None, 'practice_description': None, 'team': None, 'fantasy_data_id': 8529, 'depth_chart_order': None}\n"
     ]
    }
   ],
   "source": []
  },
  {
   "cell_type": "code",
   "execution_count": null,
   "metadata": {},
   "outputs": [],
   "source": []
  }
 ],
 "metadata": {
  "kernelspec": {
   "display_name": "Python 3",
   "language": "python",
   "name": "python3"
  },
  "language_info": {
   "codemirror_mode": {
    "name": "ipython",
    "version": 3
   },
   "file_extension": ".py",
   "mimetype": "text/x-python",
   "name": "python",
   "nbconvert_exporter": "python",
   "pygments_lexer": "ipython3",
   "version": "3.9.0"
  }
 },
 "nbformat": 4,
 "nbformat_minor": 2
}
