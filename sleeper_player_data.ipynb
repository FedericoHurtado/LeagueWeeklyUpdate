{
 "cells": [
  {
   "cell_type": "markdown",
   "metadata": {},
   "source": [
    "Create CSV table of player id to player name"
   ]
  },
  {
   "cell_type": "code",
   "execution_count": 1,
   "metadata": {},
   "outputs": [],
   "source": [
    "from sleeper_wrapper import Players\n",
    "players = Players()"
   ]
  },
  {
   "cell_type": "code",
   "execution_count": 2,
   "metadata": {},
   "outputs": [],
   "source": [
    "import pandas as pd\n",
    "import csv\n"
   ]
  },
  {
   "cell_type": "code",
   "execution_count": 3,
   "metadata": {},
   "outputs": [],
   "source": [
    "csv_table_name = './sleeper_player_data.csv'\n"
   ]
  },
  {
   "cell_type": "code",
   "execution_count": 4,
   "metadata": {},
   "outputs": [],
   "source": [
    "with open(csv_table_name, mode='w', newline='') as file:\n",
    "    # set up headers\n",
    "    writer = csv.writer(file)\n",
    "    header = [\"player_id\", \"first_name\", \"last_name\"]\n",
    "    writer.writerow(header)\n",
    "\n",
    "    # write data\n",
    "    for player_id, player_info in players.get_all_players().items():\n",
    "        row = [\n",
    "            player_info.get(\"player_id\"),\n",
    "            player_info.get(\"first_name\"),\n",
    "            player_info.get(\"last_name\")\n",
    "        ]\n",
    "        writer.writerow(row)\n"
   ]
  },
  {
   "cell_type": "code",
   "execution_count": 11,
   "metadata": {},
   "outputs": [
    {
     "name": "stdout",
     "output_type": "stream",
     "text": [
      "{'years_exp': 13, 'birth_date': '1986-08-01', 'last_name': 'Wallace', 'height': '72', 'birth_city': None, 'practice_participation': None, 'position': 'WR', 'search_last_name': 'wallace', 'depth_chart_position': None, 'number': 14, 'news_updated': 1547411185002, 'oddsjam_id': None, 'player_id': '365', 'birth_state': None, 'rotoworld_id': 5329, 'first_name': 'Mike', 'espn_id': 12601, 'stats_id': 339270, 'metadata': None, 'pandascore_id': None, 'competitions': [], 'fantasy_positions': ['WR'], 'gsis_id': '00-0026901', 'yahoo_id': 9348, 'injury_body_part': None, 'injury_start_date': None, 'sportradar_id': 'b37b5be9-4771-4368-988f-fb936f4fc0ad', 'search_full_name': 'mikewallace', 'status': 'Inactive', 'injury_notes': None, 'injury_status': None, 'search_rank': 9999999, 'weight': '200', 'full_name': 'Mike Wallace', 'high_school': 'O. Perry Walker (LA)', 'hashtag': '#mikewallace-NFL-FA-14', 'search_first_name': 'mike', 'rotowire_id': 6110, 'age': 35, 'college': 'Mississippi', 'active': False, 'birth_country': None, 'opta_id': None, 'swish_id': None, 'team': None, 'practice_description': None, 'fantasy_data_id': 8529, 'sport': 'nfl', 'depth_chart_order': None}\n"
     ]
    }
   ],
   "source": [
    "print(players.get_all_players()[\"365\"])"
   ]
  },
  {
   "cell_type": "code",
   "execution_count": null,
   "metadata": {},
   "outputs": [],
   "source": []
  }
 ],
 "metadata": {
  "kernelspec": {
   "display_name": "Python 3",
   "language": "python",
   "name": "python3"
  },
  "language_info": {
   "codemirror_mode": {
    "name": "ipython",
    "version": 3
   },
   "file_extension": ".py",
   "mimetype": "text/x-python",
   "name": "python",
   "nbconvert_exporter": "python",
   "pygments_lexer": "ipython3",
   "version": "3.9.0"
  }
 },
 "nbformat": 4,
 "nbformat_minor": 2
}
